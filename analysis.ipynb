{
 "cells": [
  {
   "cell_type": "markdown",
   "id": "75f1875b",
   "metadata": {},
   "source": [
    "### Importing necessary modules for our project"
   ]
  },
  {
   "cell_type": "code",
   "execution_count": 1,
   "id": "10b65d01",
   "metadata": {},
   "outputs": [],
   "source": [
    "import numpy as np \n",
    "import pandas as pd \n",
    "import seaborn as sns \n",
    "import matplotlib.pyplot as plt"
   ]
  },
  {
   "cell_type": "markdown",
   "id": "0fac466f",
   "metadata": {},
   "source": [
    "### Presenting the data as a table in our launcher "
   ]
  },
  {
   "cell_type": "code",
   "execution_count": 2,
   "id": "17842ce1",
   "metadata": {
    "scrolled": true
   },
   "outputs": [
    {
     "data": {
      "text/html": [
       "<div>\n",
       "<style scoped>\n",
       "    .dataframe tbody tr th:only-of-type {\n",
       "        vertical-align: middle;\n",
       "    }\n",
       "\n",
       "    .dataframe tbody tr th {\n",
       "        vertical-align: top;\n",
       "    }\n",
       "\n",
       "    .dataframe thead th {\n",
       "        text-align: right;\n",
       "    }\n",
       "</style>\n",
       "<table border=\"1\" class=\"dataframe\">\n",
       "  <thead>\n",
       "    <tr style=\"text-align: right;\">\n",
       "      <th></th>\n",
       "      <th>rank</th>\n",
       "      <th>personName</th>\n",
       "      <th>netWorth</th>\n",
       "      <th>age</th>\n",
       "      <th>countryOfCitizenship</th>\n",
       "      <th>source-column</th>\n",
       "      <th>category</th>\n",
       "    </tr>\n",
       "  </thead>\n",
       "  <tbody>\n",
       "    <tr>\n",
       "      <th>0</th>\n",
       "      <td>1.0</td>\n",
       "      <td>Jeff Bezos</td>\n",
       "      <td>$177 B</td>\n",
       "      <td>57.0</td>\n",
       "      <td>United States</td>\n",
       "      <td>Amazon</td>\n",
       "      <td>Technology</td>\n",
       "    </tr>\n",
       "    <tr>\n",
       "      <th>1</th>\n",
       "      <td>2.0</td>\n",
       "      <td>Elon Musk</td>\n",
       "      <td>$151 B</td>\n",
       "      <td>49.0</td>\n",
       "      <td>United States</td>\n",
       "      <td>Tesla, SpaceX</td>\n",
       "      <td>Automotive</td>\n",
       "    </tr>\n",
       "    <tr>\n",
       "      <th>2</th>\n",
       "      <td>3.0</td>\n",
       "      <td>Bernard Arnault &amp; family</td>\n",
       "      <td>$150 B</td>\n",
       "      <td>72.0</td>\n",
       "      <td>France</td>\n",
       "      <td>LVMH</td>\n",
       "      <td>Fashion &amp; Retail</td>\n",
       "    </tr>\n",
       "    <tr>\n",
       "      <th>3</th>\n",
       "      <td>4.0</td>\n",
       "      <td>Bill Gates</td>\n",
       "      <td>$124 B</td>\n",
       "      <td>65.0</td>\n",
       "      <td>United States</td>\n",
       "      <td>Microsoft</td>\n",
       "      <td>Technology</td>\n",
       "    </tr>\n",
       "    <tr>\n",
       "      <th>4</th>\n",
       "      <td>5.0</td>\n",
       "      <td>Mark Zuckerberg</td>\n",
       "      <td>$97 B</td>\n",
       "      <td>36.0</td>\n",
       "      <td>United States</td>\n",
       "      <td>Facebook</td>\n",
       "      <td>Technology</td>\n",
       "    </tr>\n",
       "    <tr>\n",
       "      <th>...</th>\n",
       "      <td>...</td>\n",
       "      <td>...</td>\n",
       "      <td>...</td>\n",
       "      <td>...</td>\n",
       "      <td>...</td>\n",
       "      <td>...</td>\n",
       "      <td>...</td>\n",
       "    </tr>\n",
       "    <tr>\n",
       "      <th>1195</th>\n",
       "      <td>1174.0</td>\n",
       "      <td>Henry Sy, Jr.</td>\n",
       "      <td>$2.7 B</td>\n",
       "      <td>68.0</td>\n",
       "      <td>Philippines</td>\n",
       "      <td>diversified</td>\n",
       "      <td>Diversified</td>\n",
       "    </tr>\n",
       "    <tr>\n",
       "      <th>1196</th>\n",
       "      <td>1174.0</td>\n",
       "      <td>Teresita Sy-Coson</td>\n",
       "      <td>$2.7 B</td>\n",
       "      <td>70.0</td>\n",
       "      <td>Philippines</td>\n",
       "      <td>diversified</td>\n",
       "      <td>Diversified</td>\n",
       "    </tr>\n",
       "    <tr>\n",
       "      <th>1197</th>\n",
       "      <td>1174.0</td>\n",
       "      <td>Tao Yuequn</td>\n",
       "      <td>$2.7 B</td>\n",
       "      <td>61.0</td>\n",
       "      <td>China</td>\n",
       "      <td>Contact Lens</td>\n",
       "      <td>Fashion &amp; Retail</td>\n",
       "    </tr>\n",
       "    <tr>\n",
       "      <th>1198</th>\n",
       "      <td>1174.0</td>\n",
       "      <td>Tong Jinquan</td>\n",
       "      <td>$2.7 B</td>\n",
       "      <td>66.0</td>\n",
       "      <td>China</td>\n",
       "      <td>real estate</td>\n",
       "      <td>Real Estate</td>\n",
       "    </tr>\n",
       "    <tr>\n",
       "      <th>1199</th>\n",
       "      <td>1174.0</td>\n",
       "      <td>Tsai Ming-kai</td>\n",
       "      <td>$2.7 B</td>\n",
       "      <td>71.0</td>\n",
       "      <td>Taiwan</td>\n",
       "      <td>semiconductors</td>\n",
       "      <td>Technology</td>\n",
       "    </tr>\n",
       "  </tbody>\n",
       "</table>\n",
       "<p>1200 rows × 7 columns</p>\n",
       "</div>"
      ],
      "text/plain": [
       "        rank                personName netWorth   age countryOfCitizenship  \\\n",
       "0        1.0                Jeff Bezos   $177 B  57.0        United States   \n",
       "1        2.0                 Elon Musk   $151 B  49.0        United States   \n",
       "2        3.0  Bernard Arnault & family   $150 B  72.0               France   \n",
       "3        4.0                Bill Gates   $124 B  65.0        United States   \n",
       "4        5.0           Mark Zuckerberg    $97 B  36.0        United States   \n",
       "...      ...                       ...      ...   ...                  ...   \n",
       "1195  1174.0             Henry Sy, Jr.   $2.7 B  68.0          Philippines   \n",
       "1196  1174.0         Teresita Sy-Coson   $2.7 B  70.0          Philippines   \n",
       "1197  1174.0                Tao Yuequn   $2.7 B  61.0                China   \n",
       "1198  1174.0              Tong Jinquan   $2.7 B  66.0                China   \n",
       "1199  1174.0             Tsai Ming-kai   $2.7 B  71.0               Taiwan   \n",
       "\n",
       "       source-column          category  \n",
       "0             Amazon        Technology  \n",
       "1      Tesla, SpaceX        Automotive  \n",
       "2               LVMH  Fashion & Retail  \n",
       "3          Microsoft        Technology  \n",
       "4           Facebook        Technology  \n",
       "...              ...               ...  \n",
       "1195     diversified       Diversified  \n",
       "1196     diversified       Diversified  \n",
       "1197    Contact Lens  Fashion & Retail  \n",
       "1198     real estate       Real Estate  \n",
       "1199  semiconductors        Technology  \n",
       "\n",
       "[1200 rows x 7 columns]"
      ]
     },
     "execution_count": 2,
     "metadata": {},
     "output_type": "execute_result"
    }
   ],
   "source": [
    "data = pd.read_csv(\"forbes.csv\")\n",
    "data"
   ]
  },
  {
   "cell_type": "markdown",
   "id": "82c200d8",
   "metadata": {},
   "source": [
    "This shows that our dataset has 7 columns with 1200 rows. "
   ]
  },
  {
   "cell_type": "markdown",
   "id": "9f9e5bc6",
   "metadata": {},
   "source": [
    "### Removing null data and changing the data type of some columns"
   ]
  },
  {
   "cell_type": "code",
   "execution_count": 3,
   "id": "0fddbc38",
   "metadata": {},
   "outputs": [
    {
     "data": {
      "text/html": [
       "<div>\n",
       "<style scoped>\n",
       "    .dataframe tbody tr th:only-of-type {\n",
       "        vertical-align: middle;\n",
       "    }\n",
       "\n",
       "    .dataframe tbody tr th {\n",
       "        vertical-align: top;\n",
       "    }\n",
       "\n",
       "    .dataframe thead th {\n",
       "        text-align: right;\n",
       "    }\n",
       "</style>\n",
       "<table border=\"1\" class=\"dataframe\">\n",
       "  <thead>\n",
       "    <tr style=\"text-align: right;\">\n",
       "      <th></th>\n",
       "      <th>rank</th>\n",
       "      <th>personName</th>\n",
       "      <th>netWorth</th>\n",
       "      <th>age</th>\n",
       "      <th>countryOfCitizenship</th>\n",
       "      <th>source-column</th>\n",
       "      <th>category</th>\n",
       "    </tr>\n",
       "  </thead>\n",
       "  <tbody>\n",
       "    <tr>\n",
       "      <th>0</th>\n",
       "      <td>False</td>\n",
       "      <td>False</td>\n",
       "      <td>False</td>\n",
       "      <td>False</td>\n",
       "      <td>False</td>\n",
       "      <td>False</td>\n",
       "      <td>False</td>\n",
       "    </tr>\n",
       "    <tr>\n",
       "      <th>1</th>\n",
       "      <td>False</td>\n",
       "      <td>False</td>\n",
       "      <td>False</td>\n",
       "      <td>False</td>\n",
       "      <td>False</td>\n",
       "      <td>False</td>\n",
       "      <td>False</td>\n",
       "    </tr>\n",
       "    <tr>\n",
       "      <th>2</th>\n",
       "      <td>False</td>\n",
       "      <td>False</td>\n",
       "      <td>False</td>\n",
       "      <td>False</td>\n",
       "      <td>False</td>\n",
       "      <td>False</td>\n",
       "      <td>False</td>\n",
       "    </tr>\n",
       "    <tr>\n",
       "      <th>3</th>\n",
       "      <td>False</td>\n",
       "      <td>False</td>\n",
       "      <td>False</td>\n",
       "      <td>False</td>\n",
       "      <td>False</td>\n",
       "      <td>False</td>\n",
       "      <td>False</td>\n",
       "    </tr>\n",
       "    <tr>\n",
       "      <th>4</th>\n",
       "      <td>False</td>\n",
       "      <td>False</td>\n",
       "      <td>False</td>\n",
       "      <td>False</td>\n",
       "      <td>False</td>\n",
       "      <td>False</td>\n",
       "      <td>False</td>\n",
       "    </tr>\n",
       "    <tr>\n",
       "      <th>...</th>\n",
       "      <td>...</td>\n",
       "      <td>...</td>\n",
       "      <td>...</td>\n",
       "      <td>...</td>\n",
       "      <td>...</td>\n",
       "      <td>...</td>\n",
       "      <td>...</td>\n",
       "    </tr>\n",
       "    <tr>\n",
       "      <th>1195</th>\n",
       "      <td>False</td>\n",
       "      <td>False</td>\n",
       "      <td>False</td>\n",
       "      <td>False</td>\n",
       "      <td>False</td>\n",
       "      <td>False</td>\n",
       "      <td>False</td>\n",
       "    </tr>\n",
       "    <tr>\n",
       "      <th>1196</th>\n",
       "      <td>False</td>\n",
       "      <td>False</td>\n",
       "      <td>False</td>\n",
       "      <td>False</td>\n",
       "      <td>False</td>\n",
       "      <td>False</td>\n",
       "      <td>False</td>\n",
       "    </tr>\n",
       "    <tr>\n",
       "      <th>1197</th>\n",
       "      <td>False</td>\n",
       "      <td>False</td>\n",
       "      <td>False</td>\n",
       "      <td>False</td>\n",
       "      <td>False</td>\n",
       "      <td>False</td>\n",
       "      <td>False</td>\n",
       "    </tr>\n",
       "    <tr>\n",
       "      <th>1198</th>\n",
       "      <td>False</td>\n",
       "      <td>False</td>\n",
       "      <td>False</td>\n",
       "      <td>False</td>\n",
       "      <td>False</td>\n",
       "      <td>False</td>\n",
       "      <td>False</td>\n",
       "    </tr>\n",
       "    <tr>\n",
       "      <th>1199</th>\n",
       "      <td>False</td>\n",
       "      <td>False</td>\n",
       "      <td>False</td>\n",
       "      <td>False</td>\n",
       "      <td>False</td>\n",
       "      <td>False</td>\n",
       "      <td>False</td>\n",
       "    </tr>\n",
       "  </tbody>\n",
       "</table>\n",
       "<p>1200 rows × 7 columns</p>\n",
       "</div>"
      ],
      "text/plain": [
       "       rank  personName  netWorth    age  countryOfCitizenship  source-column  \\\n",
       "0     False       False     False  False                 False          False   \n",
       "1     False       False     False  False                 False          False   \n",
       "2     False       False     False  False                 False          False   \n",
       "3     False       False     False  False                 False          False   \n",
       "4     False       False     False  False                 False          False   \n",
       "...     ...         ...       ...    ...                   ...            ...   \n",
       "1195  False       False     False  False                 False          False   \n",
       "1196  False       False     False  False                 False          False   \n",
       "1197  False       False     False  False                 False          False   \n",
       "1198  False       False     False  False                 False          False   \n",
       "1199  False       False     False  False                 False          False   \n",
       "\n",
       "      category  \n",
       "0        False  \n",
       "1        False  \n",
       "2        False  \n",
       "3        False  \n",
       "4        False  \n",
       "...        ...  \n",
       "1195     False  \n",
       "1196     False  \n",
       "1197     False  \n",
       "1198     False  \n",
       "1199     False  \n",
       "\n",
       "[1200 rows x 7 columns]"
      ]
     },
     "execution_count": 3,
     "metadata": {},
     "output_type": "execute_result"
    }
   ],
   "source": [
    "data.isnull()"
   ]
  },
  {
   "cell_type": "markdown",
   "id": "2007aa9f",
   "metadata": {},
   "source": [
    "While chekcing the dataset for null values it was found that there were no null values in the dataset which indicates that we can use all the data in the dataset for our analysis. Having a complete dataset is very beneficial to get better results while analyzing the data."
   ]
  },
  {
   "cell_type": "code",
   "execution_count": 4,
   "id": "054668df",
   "metadata": {},
   "outputs": [],
   "source": [
    "data['netWorth'] = data['netWorth'].str.strip('$')\n",
    "data['netWorth'] = data['netWorth'].str.strip('B')\n",
    "data['netWorth'] = data['netWorth'].astype(float)\n"
   ]
  },
  {
   "cell_type": "markdown",
   "id": "157270f8",
   "metadata": {},
   "source": [
    "Removing the string symbols and letters in our networth column for easier mathematical operations on the dataset."
   ]
  },
  {
   "cell_type": "markdown",
   "id": "01ea2213",
   "metadata": {},
   "source": [
    "### Category Wise Distribution Count of Data "
   ]
  },
  {
   "cell_type": "code",
   "execution_count": 5,
   "id": "7b733647",
   "metadata": {},
   "outputs": [
    {
     "data": {
      "text/plain": [
       "Finance & Investments         171\n",
       "Technology                    161\n",
       "Fashion & Retail              133\n",
       "Manufacturing                 118\n",
       "Food & Beverage                99\n",
       "Real Estate                    95\n",
       "Healthcare                     84\n",
       "Diversified                    73\n",
       "Media & Entertainment          50\n",
       "Energy                         42\n",
       "Automotive                     33\n",
       "Metals & Mining                33\n",
       "Service                        31\n",
       "Construction & Engineering     17\n",
       "Gambling & Casinos             16\n",
       "Logistics                      16\n",
       "Telecom                        15\n",
       "Sports                         13\n",
       "Name: category, dtype: int64"
      ]
     },
     "execution_count": 5,
     "metadata": {},
     "output_type": "execute_result"
    }
   ],
   "source": [
    "data['category'].value_counts()"
   ]
  },
  {
   "cell_type": "markdown",
   "id": "d8011fca",
   "metadata": {},
   "source": [
    "This shows that most of the billioniares are from Finance & Investment sector with 171 of them. Sports has the lowest number of billioniares of 13. "
   ]
  },
  {
   "cell_type": "markdown",
   "id": "0e09f6b2",
   "metadata": {},
   "source": [
    "\n",
    "### Oldest Billioniares in the World\n"
   ]
  },
  {
   "cell_type": "code",
   "execution_count": 6,
   "id": "0e1b95a0",
   "metadata": {},
   "outputs": [
    {
     "data": {
      "text/html": [
       "<div>\n",
       "<style scoped>\n",
       "    .dataframe tbody tr th:only-of-type {\n",
       "        vertical-align: middle;\n",
       "    }\n",
       "\n",
       "    .dataframe tbody tr th {\n",
       "        vertical-align: top;\n",
       "    }\n",
       "\n",
       "    .dataframe thead th {\n",
       "        text-align: right;\n",
       "    }\n",
       "</style>\n",
       "<table border=\"1\" class=\"dataframe\">\n",
       "  <thead>\n",
       "    <tr style=\"text-align: right;\">\n",
       "      <th></th>\n",
       "      <th>rank</th>\n",
       "      <th>personName</th>\n",
       "      <th>netWorth</th>\n",
       "      <th>age</th>\n",
       "      <th>countryOfCitizenship</th>\n",
       "      <th>source-column</th>\n",
       "      <th>category</th>\n",
       "    </tr>\n",
       "  </thead>\n",
       "  <tbody>\n",
       "    <tr>\n",
       "      <th>170</th>\n",
       "      <td>171.0</td>\n",
       "      <td>Robert Kuok</td>\n",
       "      <td>12.6</td>\n",
       "      <td>97.0</td>\n",
       "      <td>Malaysia</td>\n",
       "      <td>palm oil, shipping, property</td>\n",
       "      <td>Diversified</td>\n",
       "    </tr>\n",
       "    <tr>\n",
       "      <th>729</th>\n",
       "      <td>727.0</td>\n",
       "      <td>Masatoshi Ito</td>\n",
       "      <td>4.0</td>\n",
       "      <td>96.0</td>\n",
       "      <td>Japan</td>\n",
       "      <td>retail</td>\n",
       "      <td>Fashion &amp; Retail</td>\n",
       "    </tr>\n",
       "    <tr>\n",
       "      <th>594</th>\n",
       "      <td>589.0</td>\n",
       "      <td>Ted Lerner &amp; family</td>\n",
       "      <td>4.8</td>\n",
       "      <td>95.0</td>\n",
       "      <td>United States</td>\n",
       "      <td>real estate</td>\n",
       "      <td>Real Estate</td>\n",
       "    </tr>\n",
       "    <tr>\n",
       "      <th>1131</th>\n",
       "      <td>1111.0</td>\n",
       "      <td>David Gottesman</td>\n",
       "      <td>2.8</td>\n",
       "      <td>94.0</td>\n",
       "      <td>United States</td>\n",
       "      <td>investments</td>\n",
       "      <td>Finance &amp; Investments</td>\n",
       "    </tr>\n",
       "    <tr>\n",
       "      <th>438</th>\n",
       "      <td>432.0</td>\n",
       "      <td>Stef Wertheimer &amp; family</td>\n",
       "      <td>6.2</td>\n",
       "      <td>94.0</td>\n",
       "      <td>Israel</td>\n",
       "      <td>metalworking tools</td>\n",
       "      <td>Manufacturing</td>\n",
       "    </tr>\n",
       "    <tr>\n",
       "      <th>683</th>\n",
       "      <td>680.0</td>\n",
       "      <td>Traudl Engelhorn &amp; family</td>\n",
       "      <td>4.2</td>\n",
       "      <td>94.0</td>\n",
       "      <td>Germany</td>\n",
       "      <td>pharmaceuticals, medical equipment</td>\n",
       "      <td>Healthcare</td>\n",
       "    </tr>\n",
       "    <tr>\n",
       "      <th>440</th>\n",
       "      <td>440.0</td>\n",
       "      <td>Charles Dolan &amp; family</td>\n",
       "      <td>6.1</td>\n",
       "      <td>94.0</td>\n",
       "      <td>United States</td>\n",
       "      <td>cable television</td>\n",
       "      <td>Media &amp; Entertainment</td>\n",
       "    </tr>\n",
       "    <tr>\n",
       "      <th>79</th>\n",
       "      <td>80.0</td>\n",
       "      <td>Goh Cheng Liang</td>\n",
       "      <td>21.7</td>\n",
       "      <td>93.0</td>\n",
       "      <td>Singapore</td>\n",
       "      <td>paints</td>\n",
       "      <td>Manufacturing</td>\n",
       "    </tr>\n",
       "    <tr>\n",
       "      <th>691</th>\n",
       "      <td>680.0</td>\n",
       "      <td>James Irving</td>\n",
       "      <td>4.2</td>\n",
       "      <td>93.0</td>\n",
       "      <td>Canada</td>\n",
       "      <td>diversified</td>\n",
       "      <td>Diversified</td>\n",
       "    </tr>\n",
       "    <tr>\n",
       "      <th>46</th>\n",
       "      <td>47.0</td>\n",
       "      <td>Lee Shau Kee</td>\n",
       "      <td>31.7</td>\n",
       "      <td>93.0</td>\n",
       "      <td>Hong Kong</td>\n",
       "      <td>real estate</td>\n",
       "      <td>Real Estate</td>\n",
       "    </tr>\n",
       "  </tbody>\n",
       "</table>\n",
       "</div>"
      ],
      "text/plain": [
       "        rank                 personName  netWorth   age countryOfCitizenship  \\\n",
       "170    171.0                Robert Kuok      12.6  97.0             Malaysia   \n",
       "729    727.0              Masatoshi Ito       4.0  96.0                Japan   \n",
       "594    589.0        Ted Lerner & family       4.8  95.0        United States   \n",
       "1131  1111.0            David Gottesman       2.8  94.0        United States   \n",
       "438    432.0   Stef Wertheimer & family       6.2  94.0               Israel   \n",
       "683    680.0  Traudl Engelhorn & family       4.2  94.0              Germany   \n",
       "440    440.0     Charles Dolan & family       6.1  94.0        United States   \n",
       "79      80.0            Goh Cheng Liang      21.7  93.0            Singapore   \n",
       "691    680.0               James Irving       4.2  93.0               Canada   \n",
       "46      47.0               Lee Shau Kee      31.7  93.0            Hong Kong   \n",
       "\n",
       "                           source-column               category  \n",
       "170         palm oil, shipping, property            Diversified  \n",
       "729                               retail       Fashion & Retail  \n",
       "594                          real estate            Real Estate  \n",
       "1131                         investments  Finance & Investments  \n",
       "438                   metalworking tools          Manufacturing  \n",
       "683   pharmaceuticals, medical equipment             Healthcare  \n",
       "440                     cable television  Media & Entertainment  \n",
       "79                                paints          Manufacturing  \n",
       "691                          diversified            Diversified  \n",
       "46                           real estate            Real Estate  "
      ]
     },
     "execution_count": 6,
     "metadata": {},
     "output_type": "execute_result"
    }
   ],
   "source": [
    "oldest_person = data.sort_values(by=['age'], ascending=False).head(10)\n",
    "oldest_person"
   ]
  },
  {
   "cell_type": "code",
   "execution_count": 7,
   "id": "0213c650",
   "metadata": {},
   "outputs": [
    {
     "data": {
      "text/plain": [
       "United States    3\n",
       "Malaysia         1\n",
       "Japan            1\n",
       "Israel           1\n",
       "Germany          1\n",
       "Singapore        1\n",
       "Canada           1\n",
       "Hong Kong        1\n",
       "Name: countryOfCitizenship, dtype: int64"
      ]
     },
     "execution_count": 7,
     "metadata": {},
     "output_type": "execute_result"
    }
   ],
   "source": [
    "oldest_person['countryOfCitizenship'].value_counts()"
   ]
  },
  {
   "cell_type": "markdown",
   "id": "b7e81c32",
   "metadata": {},
   "source": [
    "The table above shows the list of the 10 oldest billioniares from the world. This shows that 3 of the oldest billioniares were from United States and the oldest billoniare is from Malaysia, \"Robert Kuok\" who is 97 years of age. The graph below shows the result being shown in barplot. "
   ]
  },
  {
   "cell_type": "code",
   "execution_count": 19,
   "id": "47063c1f",
   "metadata": {},
   "outputs": [
    {
     "data": {
      "image/png": "[encoded data removed]",
      "text/plain": [
       "<Figure size 432x288 with 1 Axes>"
      ]
     },
     "metadata": {
      "needs_background": "light"
     },
     "output_type": "display_data"
    }
   ],
   "source": [
    "sns.barplot(y=\"personName\", x=\"age\", data=oldest_person);\n",
    "plt.title('Oldest Billioniares');"
   ]
  },
  {
   "cell_type": "markdown",
   "id": "508f2e30",
   "metadata": {},
   "source": [
    "### Wealthiest Person in the List "
   ]
  },
  {
   "cell_type": "code",
   "execution_count": 9,
   "id": "743ca977",
   "metadata": {},
   "outputs": [
    {
     "data": {
      "image/png": "[encoded data removed]",
      "text/plain": [
       "<Figure size 432x288 with 1 Axes>"
      ]
     },
     "metadata": {
      "needs_background": "light"
     },
     "output_type": "display_data"
    }
   ],
   "source": [
    "richest = data.sort_values(by=['netWorth'], ascending=False).head(10)\n",
    "sns.barplot(y='personName', x='netWorth', palette='Paired', data=richest);\n",
    "plt.title('Top 10 Billioniares in the World');"
   ]
  },
  {
   "cell_type": "markdown",
   "id": "2fed23dd",
   "metadata": {},
   "source": [
    "The barplot shows the top 10 billioniares in the world. This shows that Jeff Bezos is the richest person in the world with net worth of about 180 billion dollars."
   ]
  },
  {
   "cell_type": "markdown",
   "id": "52eb461c",
   "metadata": {},
   "source": [
    "### Categories of Billioniares "
   ]
  },
  {
   "cell_type": "code",
   "execution_count": 37,
   "id": "32823ee5",
   "metadata": {},
   "outputs": [
    {
     "data": {
      "image/png": "[encoded data removed]",
      "text/plain": [
       "<Figure size 432x288 with 1 Axes>"
      ]
     },
     "metadata": {
      "needs_background": "light"
     },
     "output_type": "display_data"
    }
   ],
   "source": [
    "sns.countplot(y = data.category);\n",
    "plt.title('Category wise Divison of Billioniares');"
   ]
  },
  {
   "cell_type": "markdown",
   "id": "9e5f33dc",
   "metadata": {},
   "source": [
    "The count plot above shows the number of billioniares according to their industry. The data shows that Finance & Investments sector has the highest number of billioniares followed by Technology field. Sports industries has lowest number of billioniares."
   ]
  },
  {
   "cell_type": "code",
   "execution_count": 41,
   "id": "e9fb7a0a",
   "metadata": {},
   "outputs": [
    {
     "data": {
      "text/plain": [
       "United States    382\n",
       "China            224\n",
       "Germany           74\n",
       "Russia            53\n",
       "India             47\n",
       "Name: countryOfCitizenship, dtype: int64"
      ]
     },
     "execution_count": 41,
     "metadata": {},
     "output_type": "execute_result"
    }
   ],
   "source": [
    "country = data['countryOfCitizenship'].value_counts().head()\n",
    "country"
   ]
  },
  {
   "cell_type": "code",
   "execution_count": 42,
   "id": "2035e47f",
   "metadata": {},
   "outputs": [
    {
     "data": {
      "image/png": "[encoded data removed]",
      "text/plain": [
       "<Figure size 432x288 with 1 Axes>"
      ]
     },
     "metadata": {},
     "output_type": "display_data"
    }
   ],
   "source": [
    "index = ['USA', 'China', 'Germany', 'Russia', 'India']\n",
    "plt.pie(country, labels=index)\n",
    "plt.title(\"Top 5 Countires With Billioniares\")\n",
    "central_circle = plt.Circle((0, 0), 0.5, color='white')\n",
    "fig = plt.gcf()\n",
    "fig.gca().add_artist(central_circle);"
   ]
  },
  {
   "cell_type": "code",
   "execution_count": 14,
   "id": "0a80cbcd",
   "metadata": {},
   "outputs": [
    {
     "data": {
      "text/html": [
       "<div>\n",
       "<style scoped>\n",
       "    .dataframe tbody tr th:only-of-type {\n",
       "        vertical-align: middle;\n",
       "    }\n",
       "\n",
       "    .dataframe tbody tr th {\n",
       "        vertical-align: top;\n",
       "    }\n",
       "\n",
       "    .dataframe thead th {\n",
       "        text-align: right;\n",
       "    }\n",
       "</style>\n",
       "<table border=\"1\" class=\"dataframe\">\n",
       "  <thead>\n",
       "    <tr style=\"text-align: right;\">\n",
       "      <th></th>\n",
       "      <th>rank</th>\n",
       "      <th>personName</th>\n",
       "      <th>netWorth</th>\n",
       "      <th>age</th>\n",
       "      <th>countryOfCitizenship</th>\n",
       "      <th>source-column</th>\n",
       "      <th>category</th>\n",
       "    </tr>\n",
       "  </thead>\n",
       "  <tbody>\n",
       "    <tr>\n",
       "      <th>28</th>\n",
       "      <td>29.0</td>\n",
       "      <td>Masayoshi Son</td>\n",
       "      <td>45.4</td>\n",
       "      <td>63.0</td>\n",
       "      <td>Japan</td>\n",
       "      <td>internet, telecom</td>\n",
       "      <td>Telecom</td>\n",
       "    </tr>\n",
       "    <tr>\n",
       "      <th>30</th>\n",
       "      <td>31.0</td>\n",
       "      <td>Tadashi Yanai &amp; family</td>\n",
       "      <td>44.1</td>\n",
       "      <td>72.0</td>\n",
       "      <td>Japan</td>\n",
       "      <td>fashion retail</td>\n",
       "      <td>Fashion &amp; Retail</td>\n",
       "    </tr>\n",
       "    <tr>\n",
       "      <th>62</th>\n",
       "      <td>62.0</td>\n",
       "      <td>Takemitsu Takizaki</td>\n",
       "      <td>25.8</td>\n",
       "      <td>75.0</td>\n",
       "      <td>Japan</td>\n",
       "      <td>sensors</td>\n",
       "      <td>Manufacturing</td>\n",
       "    </tr>\n",
       "    <tr>\n",
       "      <th>282</th>\n",
       "      <td>274.0</td>\n",
       "      <td>Shigenobu Nagamori</td>\n",
       "      <td>8.7</td>\n",
       "      <td>76.0</td>\n",
       "      <td>Japan</td>\n",
       "      <td>motors</td>\n",
       "      <td>Manufacturing</td>\n",
       "    </tr>\n",
       "    <tr>\n",
       "      <th>314</th>\n",
       "      <td>311.0</td>\n",
       "      <td>Takahisa Takahara</td>\n",
       "      <td>7.9</td>\n",
       "      <td>59.0</td>\n",
       "      <td>Japan</td>\n",
       "      <td>personal care goods</td>\n",
       "      <td>Fashion &amp; Retail</td>\n",
       "    </tr>\n",
       "    <tr>\n",
       "      <th>396</th>\n",
       "      <td>391.0</td>\n",
       "      <td>Hiroshi Mikitani</td>\n",
       "      <td>6.7</td>\n",
       "      <td>56.0</td>\n",
       "      <td>Japan</td>\n",
       "      <td>online retail</td>\n",
       "      <td>Fashion &amp; Retail</td>\n",
       "    </tr>\n",
       "    <tr>\n",
       "      <th>542</th>\n",
       "      <td>539.0</td>\n",
       "      <td>Akio Nitori</td>\n",
       "      <td>5.2</td>\n",
       "      <td>77.0</td>\n",
       "      <td>Japan</td>\n",
       "      <td>home furnishings</td>\n",
       "      <td>Fashion &amp; Retail</td>\n",
       "    </tr>\n",
       "    <tr>\n",
       "      <th>583</th>\n",
       "      <td>574.0</td>\n",
       "      <td>Yasumitsu Shigeta</td>\n",
       "      <td>4.9</td>\n",
       "      <td>56.0</td>\n",
       "      <td>Japan</td>\n",
       "      <td>mobile phone retailer</td>\n",
       "      <td>Telecom</td>\n",
       "    </tr>\n",
       "    <tr>\n",
       "      <th>677</th>\n",
       "      <td>665.0</td>\n",
       "      <td>Takao Yasuda</td>\n",
       "      <td>4.3</td>\n",
       "      <td>71.0</td>\n",
       "      <td>Japan</td>\n",
       "      <td>retail</td>\n",
       "      <td>Fashion &amp; Retail</td>\n",
       "    </tr>\n",
       "    <tr>\n",
       "      <th>729</th>\n",
       "      <td>727.0</td>\n",
       "      <td>Masatoshi Ito</td>\n",
       "      <td>4.0</td>\n",
       "      <td>96.0</td>\n",
       "      <td>Japan</td>\n",
       "      <td>retail</td>\n",
       "      <td>Fashion &amp; Retail</td>\n",
       "    </tr>\n",
       "    <tr>\n",
       "      <th>737</th>\n",
       "      <td>727.0</td>\n",
       "      <td>Akira Mori &amp; family</td>\n",
       "      <td>4.0</td>\n",
       "      <td>84.0</td>\n",
       "      <td>Japan</td>\n",
       "      <td>real estate</td>\n",
       "      <td>Real Estate</td>\n",
       "    </tr>\n",
       "    <tr>\n",
       "      <th>739</th>\n",
       "      <td>727.0</td>\n",
       "      <td>Masahiro Noda</td>\n",
       "      <td>4.0</td>\n",
       "      <td>82.0</td>\n",
       "      <td>Japan</td>\n",
       "      <td>software</td>\n",
       "      <td>Technology</td>\n",
       "    </tr>\n",
       "    <tr>\n",
       "      <th>763</th>\n",
       "      <td>752.0</td>\n",
       "      <td>Masahiro Miki</td>\n",
       "      <td>3.9</td>\n",
       "      <td>65.0</td>\n",
       "      <td>Japan</td>\n",
       "      <td>shoes</td>\n",
       "      <td>Fashion &amp; Retail</td>\n",
       "    </tr>\n",
       "    <tr>\n",
       "      <th>963</th>\n",
       "      <td>956.0</td>\n",
       "      <td>Yoichi &amp; Keiko Erikawa</td>\n",
       "      <td>3.2</td>\n",
       "      <td>NaN</td>\n",
       "      <td>Japan</td>\n",
       "      <td>videogames</td>\n",
       "      <td>Media &amp; Entertainment</td>\n",
       "    </tr>\n",
       "    <tr>\n",
       "      <th>1164</th>\n",
       "      <td>1111.0</td>\n",
       "      <td>Masateru Uno &amp; family</td>\n",
       "      <td>2.8</td>\n",
       "      <td>74.0</td>\n",
       "      <td>Japan</td>\n",
       "      <td>drugstores</td>\n",
       "      <td>Fashion &amp; Retail</td>\n",
       "    </tr>\n",
       "  </tbody>\n",
       "</table>\n",
       "</div>"
      ],
      "text/plain": [
       "        rank              personName  netWorth   age countryOfCitizenship  \\\n",
       "28      29.0           Masayoshi Son      45.4  63.0                Japan   \n",
       "30      31.0  Tadashi Yanai & family      44.1  72.0                Japan   \n",
       "62      62.0      Takemitsu Takizaki      25.8  75.0                Japan   \n",
       "282    274.0      Shigenobu Nagamori       8.7  76.0                Japan   \n",
       "314    311.0       Takahisa Takahara       7.9  59.0                Japan   \n",
       "396    391.0        Hiroshi Mikitani       6.7  56.0                Japan   \n",
       "542    539.0             Akio Nitori       5.2  77.0                Japan   \n",
       "583    574.0       Yasumitsu Shigeta       4.9  56.0                Japan   \n",
       "677    665.0            Takao Yasuda       4.3  71.0                Japan   \n",
       "729    727.0           Masatoshi Ito       4.0  96.0                Japan   \n",
       "737    727.0     Akira Mori & family       4.0  84.0                Japan   \n",
       "739    727.0           Masahiro Noda       4.0  82.0                Japan   \n",
       "763    752.0           Masahiro Miki       3.9  65.0                Japan   \n",
       "963    956.0  Yoichi & Keiko Erikawa       3.2   NaN                Japan   \n",
       "1164  1111.0   Masateru Uno & family       2.8  74.0                Japan   \n",
       "\n",
       "              source-column               category  \n",
       "28        internet, telecom                Telecom  \n",
       "30           fashion retail       Fashion & Retail  \n",
       "62                  sensors          Manufacturing  \n",
       "282                  motors          Manufacturing  \n",
       "314     personal care goods       Fashion & Retail  \n",
       "396           online retail       Fashion & Retail  \n",
       "542        home furnishings       Fashion & Retail  \n",
       "583   mobile phone retailer                Telecom  \n",
       "677                  retail       Fashion & Retail  \n",
       "729                  retail       Fashion & Retail  \n",
       "737             real estate            Real Estate  \n",
       "739                software             Technology  \n",
       "763                   shoes       Fashion & Retail  \n",
       "963              videogames  Media & Entertainment  \n",
       "1164             drugstores       Fashion & Retail  "
      ]
     },
     "execution_count": 14,
     "metadata": {},
     "output_type": "execute_result"
    }
   ],
   "source": [
    "japan = data.query(\"countryOfCitizenship == 'Japan'\")\n",
    "japan"
   ]
  },
  {
   "cell_type": "code",
   "execution_count": 15,
   "id": "12bf87b7",
   "metadata": {},
   "outputs": [
    {
     "data": {
      "image/png": "[encoded data removed]",
      "text/plain": [
       "<Figure size 432x288 with 1 Axes>"
      ]
     },
     "metadata": {
      "needs_background": "light"
     },
     "output_type": "display_data"
    }
   ],
   "source": [
    "sns.barplot(data=japan, x=\"netWorth\", y='age');"
   ]
  },
  {
   "cell_type": "code",
   "execution_count": 16,
   "id": "e21e81c0",
   "metadata": {},
   "outputs": [
    {
     "data": {
      "text/html": [
       "<div>\n",
       "<style scoped>\n",
       "    .dataframe tbody tr th:only-of-type {\n",
       "        vertical-align: middle;\n",
       "    }\n",
       "\n",
       "    .dataframe tbody tr th {\n",
       "        vertical-align: top;\n",
       "    }\n",
       "\n",
       "    .dataframe thead th {\n",
       "        text-align: right;\n",
       "    }\n",
       "</style>\n",
       "<table border=\"1\" class=\"dataframe\">\n",
       "  <thead>\n",
       "    <tr style=\"text-align: right;\">\n",
       "      <th></th>\n",
       "      <th>rank</th>\n",
       "      <th>personName</th>\n",
       "      <th>netWorth</th>\n",
       "      <th>age</th>\n",
       "      <th>countryOfCitizenship</th>\n",
       "      <th>source-column</th>\n",
       "      <th>category</th>\n",
       "    </tr>\n",
       "  </thead>\n",
       "  <tbody>\n",
       "    <tr>\n",
       "      <th>46</th>\n",
       "      <td>47.0</td>\n",
       "      <td>Lee Shau Kee</td>\n",
       "      <td>31.7</td>\n",
       "      <td>93.0</td>\n",
       "      <td>Hong Kong</td>\n",
       "      <td>real estate</td>\n",
       "      <td>Real Estate</td>\n",
       "    </tr>\n",
       "    <tr>\n",
       "      <th>49</th>\n",
       "      <td>50.0</td>\n",
       "      <td>Yang Huiyan &amp; family</td>\n",
       "      <td>29.6</td>\n",
       "      <td>39.0</td>\n",
       "      <td>China</td>\n",
       "      <td>real estate</td>\n",
       "      <td>Real Estate</td>\n",
       "    </tr>\n",
       "    <tr>\n",
       "      <th>52</th>\n",
       "      <td>53.0</td>\n",
       "      <td>Hui Ka Yan</td>\n",
       "      <td>27.7</td>\n",
       "      <td>62.0</td>\n",
       "      <td>China</td>\n",
       "      <td>real estate</td>\n",
       "      <td>Real Estate</td>\n",
       "    </tr>\n",
       "    <tr>\n",
       "      <th>100</th>\n",
       "      <td>100.0</td>\n",
       "      <td>Wu Yajun</td>\n",
       "      <td>18.3</td>\n",
       "      <td>57.0</td>\n",
       "      <td>China</td>\n",
       "      <td>real estate</td>\n",
       "      <td>Real Estate</td>\n",
       "    </tr>\n",
       "    <tr>\n",
       "      <th>103</th>\n",
       "      <td>104.0</td>\n",
       "      <td>Peter Woo</td>\n",
       "      <td>18.0</td>\n",
       "      <td>74.0</td>\n",
       "      <td>Hong Kong</td>\n",
       "      <td>real estate</td>\n",
       "      <td>Real Estate</td>\n",
       "    </tr>\n",
       "  </tbody>\n",
       "</table>\n",
       "</div>"
      ],
      "text/plain": [
       "      rank            personName  netWorth   age countryOfCitizenship  \\\n",
       "46    47.0          Lee Shau Kee      31.7  93.0            Hong Kong   \n",
       "49    50.0  Yang Huiyan & family      29.6  39.0                China   \n",
       "52    53.0            Hui Ka Yan      27.7  62.0                China   \n",
       "100  100.0              Wu Yajun      18.3  57.0                China   \n",
       "103  104.0             Peter Woo      18.0  74.0            Hong Kong   \n",
       "\n",
       "    source-column     category  \n",
       "46    real estate  Real Estate  \n",
       "49    real estate  Real Estate  \n",
       "52    real estate  Real Estate  \n",
       "100   real estate  Real Estate  \n",
       "103   real estate  Real Estate  "
      ]
     },
     "execution_count": 16,
     "metadata": {},
     "output_type": "execute_result"
    }
   ],
   "source": [
    "realestate = data.query(\"category == 'Real Estate'\").head()\n",
    "realestate\n",
    "# investments = data.query(\"category == 'Real Estate'\").value_counts()"
   ]
  },
  {
   "cell_type": "code",
   "execution_count": 17,
   "id": "017bf8e8",
   "metadata": {},
   "outputs": [
    {
     "data": {
      "image/png": "[encoded data removed]",
      "text/plain": [
       "<Figure size 432x288 with 1 Axes>"
      ]
     },
     "metadata": {
      "needs_background": "light"
     },
     "output_type": "display_data"
    }
   ],
   "source": [
    "sns.barplot(x='netWorth', y='personName', data =realestate);"
   ]
  },
  {
   "cell_type": "code",
   "execution_count": 18,
   "id": "46edc46a",
   "metadata": {},
   "outputs": [
    {
     "data": {
      "image/png": "[encoded data removed]",
      "text/plain": [
       "<Figure size 432x288 with 1 Axes>"
      ]
     },
     "metadata": {
      "needs_background": "light"
     },
     "output_type": "display_data"
    }
   ],
   "source": [
    "data2 = data.head(20)\n",
    "sns.scatterplot(x='netWorth', y='personName', data=data2);\n",
    "plt.title(\"Scatter Plot Showing networth varitation between top 20 billioniares\");"
   ]
  },
  {
   "cell_type": "code",
   "execution_count": null,
   "id": "9b4628dc",
   "metadata": {},
   "outputs": [],
   "source": []
  }
 ],
 "metadata": {
  "kernelspec": {
   "display_name": "Python 3 (ipykernel)",
   "language": "python",
   "name": "python3"
  },
  "language_info": {
   "codemirror_mode": {
    "name": "ipython",
    "version": 3
   },
   "file_extension": ".py",
   "mimetype": "text/x-python",
   "name": "python",
   "nbconvert_exporter": "python",
   "pygments_lexer": "ipython3",
   "version": "3.9.7"
  }
 },
 "nbformat": 4,
 "nbformat_minor": 5
}
